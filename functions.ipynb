{
 "cells": [
  {
   "cell_type": "markdown",
   "id": "32531f23",
   "metadata": {},
   "source": [
    "Aby stworzyć funkcję, musimy uzyć słowa \"def\", podać nazwę funkcji, oraz argumenty jakie użyjemy do funkcji oraz kod, czyli to co chemy wykonać np. obliczenie"
   ]
  },
  {
   "cell_type": "code",
   "execution_count": 4,
   "id": "e9ea5396",
   "metadata": {},
   "outputs": [],
   "source": [
    "def dodawanie(a,b):\n",
    "    return(a+b)"
   ]
  },
  {
   "cell_type": "markdown",
   "id": "d529f812",
   "metadata": {},
   "source": [
    "Teraz żeby wywołać funkcję, musimy zorbić \"print\" i podać liczby jakie chcemy dodać"
   ]
  },
  {
   "cell_type": "code",
   "execution_count": 5,
   "id": "2df040e3",
   "metadata": {},
   "outputs": [
    {
     "name": "stdout",
     "output_type": "stream",
     "text": [
      "3\n"
     ]
    }
   ],
   "source": [
    "print(dodawanie(1,2))"
   ]
  },
  {
   "cell_type": "code",
   "execution_count": null,
   "id": "12fc2cd4",
   "metadata": {},
   "outputs": [],
   "source": []
  }
 ],
 "metadata": {
  "kernelspec": {
   "display_name": "Python 3 (ipykernel)",
   "language": "python",
   "name": "python3"
  },
  "language_info": {
   "codemirror_mode": {
    "name": "ipython",
    "version": 3
   },
   "file_extension": ".py",
   "mimetype": "text/x-python",
   "name": "python",
   "nbconvert_exporter": "python",
   "pygments_lexer": "ipython3",
   "version": "3.10.6"
  }
 },
 "nbformat": 4,
 "nbformat_minor": 5
}
