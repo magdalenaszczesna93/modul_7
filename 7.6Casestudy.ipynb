{
 "cells": [
  {
   "cell_type": "markdown",
   "id": "486b583c",
   "metadata": {},
   "source": [
    "# Porównanie odsetek kredytowych"
   ]
  },
  {
   "cell_type": "code",
   "execution_count": 1,
   "id": "04895485",
   "metadata": {},
   "outputs": [],
   "source": [
    "import numpy as np\n",
    "freq = 12\n",
    "rate = 0.0675\n",
    "years = 30\n",
    "pv = 200000"
   ]
  },
  {
   "cell_type": "code",
   "execution_count": 2,
   "id": "be867f0d",
   "metadata": {},
   "outputs": [],
   "source": [
    "# rate /= freq # konwersja stopy do okresu miesięcznego\n",
    "nper = years * freq # liczba wszystkich okresów (number of periods)"
   ]
  },
  {
   "cell_type": "code",
   "execution_count": 3,
   "id": "564afc4a",
   "metadata": {},
   "outputs": [],
   "source": [
    "periods = np.arange(1, nper+1, dtype=int)"
   ]
  },
  {
   "cell_type": "code",
   "execution_count": 4,
   "id": "6528ccd5",
   "metadata": {},
   "outputs": [],
   "source": [
    "import numpy_financial as npf"
   ]
  },
  {
   "cell_type": "markdown",
   "id": "a3afb9f8",
   "metadata": {},
   "source": [
    "### Raty równe, pbliczamy część odsetkową, raty równe zawsze, najpierw większa część odsetkowa, a mneijsza kapitałowa, a później odwrotnie"
   ]
  },
  {
   "cell_type": "code",
   "execution_count": 5,
   "id": "1af966e7",
   "metadata": {},
   "outputs": [
    {
     "data": {
      "text/plain": [
       "array([13500., 13500., 13500., 13500., 13500., 13500., 13500., 13500.,\n",
       "       13500., 13500.])"
      ]
     },
     "execution_count": 5,
     "metadata": {},
     "output_type": "execute_result"
    }
   ],
   "source": [
    "interest_equal = - np.around(npf.ipmt(rate, periods, nper, pv),2)\n",
    "interest_equal[:10]"
   ]
  },
  {
   "cell_type": "markdown",
   "id": "cd8bb6fa",
   "metadata": {},
   "source": [
    "### Raty malejące, obliczamy część kapitałową, stała część kapitałowa, a odsetkowa malejąca"
   ]
  },
  {
   "cell_type": "code",
   "execution_count": 6,
   "id": "5c429ab7",
   "metadata": {},
   "outputs": [],
   "source": [
    "np.set_printoptions(suppress=True)"
   ]
  },
  {
   "cell_type": "code",
   "execution_count": 7,
   "id": "1d6948ea",
   "metadata": {},
   "outputs": [
    {
     "data": {
      "text/plain": [
       "array([555.56, 555.56, 555.56, 555.56, 555.56, 555.56, 555.56, 555.56,\n",
       "       555.56, 555.56])"
      ]
     },
     "execution_count": 7,
     "metadata": {},
     "output_type": "execute_result"
    }
   ],
   "source": [
    "principal_decreasing = np.around(np.zeros(nper)+(pv/nper),2)\n",
    "principal_decreasing[:10]"
   ]
  },
  {
   "cell_type": "markdown",
   "id": "621f1246",
   "metadata": {},
   "source": [
    "### Obliczenie odsetek w ratach malejących"
   ]
  },
  {
   "cell_type": "code",
   "execution_count": 8,
   "id": "a23bab7c",
   "metadata": {},
   "outputs": [
    {
     "data": {
      "text/plain": [
       "array([199444.44, 198888.88, 198333.32,   1109.52,    553.96,     -1.6 ])"
      ]
     },
     "execution_count": 8,
     "metadata": {},
     "output_type": "execute_result"
    }
   ],
   "source": [
    "balance = np.zeros(nper) + pv\n",
    "balance_close = np.around(balance - np.cumsum(principal_decreasing),2)\n",
    "balance_close[[0,1,2,-3,-2,-1]]"
   ]
  },
  {
   "cell_type": "code",
   "execution_count": 9,
   "id": "b3386e95",
   "metadata": {},
   "outputs": [
    {
     "data": {
      "text/plain": [
       "array([ 555.56, 1111.12, 1666.68, 2222.24, 2777.8 , 3333.36, 3888.92,\n",
       "       4444.48, 5000.04, 5555.6 ])"
      ]
     },
     "execution_count": 9,
     "metadata": {},
     "output_type": "execute_result"
    }
   ],
   "source": [
    "np.cumsum(principal_decreasing)[:10]"
   ]
  },
  {
   "cell_type": "code",
   "execution_count": 10,
   "id": "4bfa15ce",
   "metadata": {},
   "outputs": [],
   "source": [
    "balance_open = balance_close + principal_decreasing"
   ]
  },
  {
   "cell_type": "code",
   "execution_count": 11,
   "id": "55a19491",
   "metadata": {},
   "outputs": [
    {
     "data": {
      "text/plain": [
       "array([13500. , 13462.5, 13425. , 13387.5, 13350. , 13312.5, 13275. ,\n",
       "       13237.5, 13200. , 13162.5])"
      ]
     },
     "execution_count": 11,
     "metadata": {},
     "output_type": "execute_result"
    }
   ],
   "source": [
    "interest_decreasing = np.around(balance_open * rate,2)\n",
    "interest_decreasing[:10]"
   ]
  },
  {
   "cell_type": "code",
   "execution_count": 12,
   "id": "325bdaeb",
   "metadata": {},
   "outputs": [
    {
     "name": "stdout",
     "output_type": "stream",
     "text": [
      "Wartość odsetek do zapłaty w wariancie kredytu w równych ratach wynosi: 4660000.18\n",
      "Wartość odsetek do zapłaty w wariancie kredytu w ratach malejących wynosi: 2436730.62\n"
     ]
    }
   ],
   "source": [
    "print(\"Wartość odsetek do zapłaty w wariancie kredytu w równych ratach wynosi: \" + str(\"{:.2f}\".format(interest_equal.sum())))\n",
    "print(\"Wartość odsetek do zapłaty w wariancie kredytu w ratach malejących wynosi: \" + str(\"{:.2f}\".format(interest_decreasing.sum())))"
   ]
  },
  {
   "cell_type": "markdown",
   "id": "a5db4122",
   "metadata": {},
   "source": [
    "### Biblioteka matplotlib - wykresy"
   ]
  },
  {
   "cell_type": "code",
   "execution_count": 13,
   "id": "a34e86ef",
   "metadata": {},
   "outputs": [],
   "source": [
    "import matplotlib.pyplot as plt"
   ]
  },
  {
   "cell_type": "code",
   "execution_count": 14,
   "id": "de5766c6",
   "metadata": {},
   "outputs": [
    {
     "data": {
      "text/plain": [
       "Text(0, 0.5, 'Skumulowana wartość odsetek')"
      ]
     },
     "execution_count": 14,
     "metadata": {},
     "output_type": "execute_result"
    },
    {
     "data": {
      "image/png": "[encoded data removed]",
      "text/plain": [
       "<Figure size 640x480 with 1 Axes>"
      ]
     },
     "metadata": {},
     "output_type": "display_data"
    }
   ],
   "source": [
    "plt.plot(interest_equal.cumsum(), label='raty równe')\n",
    "plt.plot(interest_decreasing.cumsum(), label='raty malejące')\n",
    "plt.legend()\n",
    "plt.xlabel('Liczba okresów')\n",
    "plt.ylabel('Skumulowana wartość odsetek')"
   ]
  },
  {
   "cell_type": "markdown",
   "id": "644fb254",
   "metadata": {},
   "source": [
    "### Zadanie: kupujemy mieszkanie\n",
    "Zamierzasz kupić mieszkanie. Upatrzone M kosztuje w tym momencie 120 tys. zł, jednak przewidujesz, że przez następne 5 lat ceny mieszkań będą rosły w tempie 5% rocznie. W tym momencie nie dysponujesz wystarczającymi środkami, dlatego znajdujesz ofertę banku, który proponuje lokatę, do której dopłacasz pewna stałą kwotę na koniec każdego miesiąca. Bank oferuje nominalną stopę procentową w wysokości 12% w skali roku, przy kapitalizacji miesięcznej.\n",
    "\n",
    "1. Ile będzie wynosiła orientacyjna cena mieszkania za 5 lat?\n",
    "2. Ile musisz wpłacać do banku każdego miesiąca, aby przy przedstawionej ofercie uzbierać na mieszkanie w ciągu 5 lat?\n",
    "3. Stwórz wykres przedstawiający, jak w interwałach miesięcznych zmieniać się będzie cena mieszkania (liniowy wzrost w całym okresie) oraz wartość twojej lokaty.\n",
    "\n",
    "Do wykonania powyższego zadania wykorzystaj biblioteki NumPy, NumPy-financial oraz Matplotlib. Odpowiedzi na pytania umieść w Notebooku (jeśli korzystasz) lub w komentarzach w kodzie."
   ]
  },
  {
   "cell_type": "code",
   "execution_count": 15,
   "id": "1db43823",
   "metadata": {},
   "outputs": [],
   "source": [
    "import numpy as np\n",
    "import numpy_financial as npf\n",
    "import matplotlib.pyplot as plt"
   ]
  },
  {
   "cell_type": "markdown",
   "id": "3b595064",
   "metadata": {},
   "source": [
    "#### 1. Ile będzie wynosiła orientacyjna cena mieszkania za 5 lat?"
   ]
  },
  {
   "cell_type": "code",
   "execution_count": 16,
   "id": "a8dd2710",
   "metadata": {},
   "outputs": [],
   "source": [
    "freq = 12\n",
    "rate = 0.05 # stopa oprocentowania rocznego\n",
    "nper = 5 # liczba wszystkich okresów\n",
    "pv = 120000 # poczatkowa cena mieszkania\n",
    "per = np.arange(1,nper+1, dtype=int) # wektor licznika każdej kolejnej płatności\n",
    "p2 = nper*freq"
   ]
  },
  {
   "cell_type": "code",
   "execution_count": 17,
   "id": "0000fd8d",
   "metadata": {},
   "outputs": [],
   "source": [
    "#wartość przyszła mieszkania przy npf.fv(stopie 'rate'), \n",
    "# (kapitalizacji co 'nper'), (bez dodtakowej kwoty rocznie), \n",
    "# (początkowa cena mieszkania 'pv')"
   ]
  },
  {
   "cell_type": "code",
   "execution_count": 18,
   "id": "c1c4534c",
   "metadata": {},
   "outputs": [
    {
     "data": {
      "text/plain": [
       "array([126000.  , 132300.  , 138915.  , 145860.75, 153153.79])"
      ]
     },
     "execution_count": 18,
     "metadata": {},
     "output_type": "execute_result"
    }
   ],
   "source": [
    "future_price = np.around(npf.fv(rate, nper, 0, -pv),2) \n",
    "# Zgodnie z konwencją znak minus oznacza wypływ gotówki \n",
    "# (tj. pieniądze niedostępne dzisiaj). \n",
    "future_price_np = np.around(npf.fv(rate, per, 0, -pv),2)\n",
    "future_price_np"
   ]
  },
  {
   "cell_type": "code",
   "execution_count": 19,
   "id": "db16018b",
   "metadata": {},
   "outputs": [
    {
     "name": "stdout",
     "output_type": "stream",
     "text": [
      "Orientacyjna cena mieszkania za 5 lat wyniesie: 153153.79 zł.\n"
     ]
    }
   ],
   "source": [
    "print(f'Orientacyjna cena mieszkania za 5 lat wyniesie: {future_price} zł.')"
   ]
  },
  {
   "cell_type": "code",
   "execution_count": 20,
   "id": "653950d0",
   "metadata": {},
   "outputs": [
    {
     "data": {
      "text/plain": [
       "array([126000.  , 126000.  , 126000.  , 126000.  , 126000.  , 126000.  ,\n",
       "       126000.  , 126000.  , 126000.  , 126000.  , 126000.  , 126000.  ,\n",
       "       132300.  , 132300.  , 132300.  , 132300.  , 132300.  , 132300.  ,\n",
       "       132300.  , 132300.  , 132300.  , 132300.  , 132300.  , 132300.  ,\n",
       "       138915.  , 138915.  , 138915.  , 138915.  , 138915.  , 138915.  ,\n",
       "       138915.  , 138915.  , 138915.  , 138915.  , 138915.  , 138915.  ,\n",
       "       145860.75, 145860.75, 145860.75, 145860.75, 145860.75, 145860.75,\n",
       "       145860.75, 145860.75, 145860.75, 145860.75, 145860.75, 145860.75,\n",
       "       153153.79, 153153.79, 153153.79, 153153.79, 153153.79, 153153.79,\n",
       "       153153.79, 153153.79, 153153.79, 153153.79, 153153.79, 153153.79])"
      ]
     },
     "execution_count": 20,
     "metadata": {},
     "output_type": "execute_result"
    }
   ],
   "source": [
    "fp = np.sort(((np.zeros((12,1)) + future_price_np).reshape(1,60)).flatten())\n",
    "# fp.flatten()\n",
    "# fp.sort()\n",
    "fp"
   ]
  },
  {
   "cell_type": "markdown",
   "id": "2e2474ac",
   "metadata": {},
   "source": [
    "#### 2. Ile musisz wpłacać do banku każdego miesiąca, aby przy przedstawionej ofercie uzbierać na mieszkanie w ciągu 5 lat?"
   ]
  },
  {
   "cell_type": "code",
   "execution_count": 21,
   "id": "02cca62f",
   "metadata": {},
   "outputs": [],
   "source": [
    "# płatność stała do banku co miesiąc 'pmt' = ????? "
   ]
  },
  {
   "cell_type": "code",
   "execution_count": 22,
   "id": "939d011e",
   "metadata": {},
   "outputs": [],
   "source": [
    "freq = 12 #kapitalizacja odsetek 12 razy w roku\n",
    "rate = 0.12 # roczna stopa oprocentowania\n",
    "years = 5 # liczba lat oszczędzania\n",
    "pv = 0 # teraźniejsza wartość w banku\n",
    "fv = future_price # kwota jaką chemy uzyskać równa cenie mieszkania za 5 lat\n",
    "\n",
    "rf = rate/freq # konwersja stopy do okresu miesięcznego\n",
    "nper = years * freq # liczba wszystkich okresów kapitalizacji\n",
    "per = np.arange(1,nper+1, dtype=int) # wektor licznika każdej kolejnej płatności"
   ]
  },
  {
   "cell_type": "code",
   "execution_count": 23,
   "id": "15294fd1",
   "metadata": {},
   "outputs": [
    {
     "data": {
      "text/plain": [
       "1875.28"
      ]
     },
     "execution_count": 23,
     "metadata": {},
     "output_type": "execute_result"
    }
   ],
   "source": [
    "wplata = np.around(npf.pmt(rf, nper, -pv, -fv, when='end'),2)\n",
    "# Zgodnie z konwencją znak minus oznacza wypływ gotówki \n",
    "# (tj. pieniądze niedostępne dzisiaj). \n",
    "wplata"
   ]
  },
  {
   "cell_type": "code",
   "execution_count": 24,
   "id": "c5e4d4bb",
   "metadata": {},
   "outputs": [
    {
     "name": "stdout",
     "output_type": "stream",
     "text": [
      "Muszę wpłacać 1875.28 złotych do banku każdego miesiąca, aby przy przedstawionej ofercie uzbierać na mieszkanie w ciągu 5 lat.\n"
     ]
    }
   ],
   "source": [
    "print(f'Muszę wpłacać {wplata} złotych do banku każdego miesiąca, aby przy przedstawionej ofercie uzbierać na mieszkanie w ciągu 5 lat.')"
   ]
  },
  {
   "cell_type": "markdown",
   "id": "e3f76391",
   "metadata": {},
   "source": [
    "#### 3. Stwórz wykres przedstawiający, jak w interwałach miesięcznych zmieniać się będzie cena mieszkania (liniowy wzrost w całym okresie) oraz wartość twojej lokaty."
   ]
  },
  {
   "cell_type": "code",
   "execution_count": 25,
   "id": "99549aa9",
   "metadata": {},
   "outputs": [
    {
     "data": {
      "text/plain": [
       "array([  1875.28,   3769.31,   5682.29,   7614.39,   9565.81,  11536.75,\n",
       "        13527.4 ,  15537.95,  17568.61,  19619.58,  21691.05,  23783.24,\n",
       "        25896.36,  28030.6 ,  30186.19,  32363.33,  34562.24,  36783.14,\n",
       "        39026.26,  41291.8 ,  43580.  ,  45891.08,  48225.27,  50582.8 ,\n",
       "        52963.91,  55368.83,  57797.79,  60251.05,  62728.84,  65231.41,\n",
       "        67759.01,  70311.88,  72890.27,  75494.46,  78124.68,  80781.21,\n",
       "        83464.3 ,  86174.22,  88911.25,  91675.64,  94467.67,  97287.63,\n",
       "       100135.79, 103012.43, 105917.83, 108852.29, 111816.09, 114809.53,\n",
       "       117832.91, 120886.52, 123970.66, 127085.65, 130231.78, 133409.38,\n",
       "       136618.76, 139860.22, 143134.11, 146440.73, 149780.41, 153153.5 ])"
      ]
     },
     "execution_count": 25,
     "metadata": {},
     "output_type": "execute_result"
    }
   ],
   "source": [
    "# wartość przyszła przy wyliczonej 'wpłacie'\n",
    "fv_save = np.around(npf.fv(rf, per, -wplata, -pv, when='end'),2)\n",
    "fv_save"
   ]
  },
  {
   "cell_type": "code",
   "execution_count": 27,
   "id": "f0e6451d",
   "metadata": {
    "scrolled": true
   },
   "outputs": [
    {
     "data": {
      "text/plain": [
       "Text(0, 0.5, 'Skumolowana wartość')"
      ]
     },
     "execution_count": 27,
     "metadata": {},
     "output_type": "execute_result"
    },
    {
     "data": {
      "image/png": "[encoded data removed]",
      "text/plain": [
       "<Figure size 640x480 with 1 Axes>"
      ]
     },
     "metadata": {},
     "output_type": "display_data"
    }
   ],
   "source": [
    "plt.plot(fp, label = 'cena mieszkania')\n",
    "plt.plot(fv_save, label = 'wartość lokaty')\n",
    "plt.legend()\n",
    "plt.xlabel('Liczba miesięcy')\n",
    "plt.ylabel('Skumolowana wartość')"
   ]
  },
  {
   "cell_type": "code",
   "execution_count": null,
   "id": "59915c71",
   "metadata": {},
   "outputs": [],
   "source": []
  }
 ],
 "metadata": {
  "kernelspec": {
   "display_name": "Python 3 (ipykernel)",
   "language": "python",
   "name": "python3"
  },
  "language_info": {
   "codemirror_mode": {
    "name": "ipython",
    "version": 3
   },
   "file_extension": ".py",
   "mimetype": "text/x-python",
   "name": "python",
   "nbconvert_exporter": "python",
   "pygments_lexer": "ipython3",
   "version": "3.10.6"
  }
 },
 "nbformat": 4,
 "nbformat_minor": 5
}
