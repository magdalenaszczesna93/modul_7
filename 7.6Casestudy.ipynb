{
 "cells": [
  {
   "cell_type": "markdown",
   "id": "486b583c",
   "metadata": {},
   "source": [
    "# Porównanie odsetek kredytowych"
   ]
  },
  {
   "cell_type": "markdown",
   "id": "644fb254",
   "metadata": {},
   "source": [
    "### Zadanie: kupujemy mieszkanie\n",
    "Zamierzasz kupić mieszkanie. Upatrzone M kosztuje w tym momencie 120 tys. zł, jednak przewidujesz, że przez następne 5 lat ceny mieszkań będą rosły w tempie 5% rocznie. W tym momencie nie dysponujesz wystarczającymi środkami, dlatego znajdujesz ofertę banku, który proponuje lokatę, do której dopłacasz pewna stałą kwotę na koniec każdego miesiąca. Bank oferuje nominalną stopę procentową w wysokości 12% w skali roku, przy kapitalizacji miesięcznej.\n",
    "\n",
    "1. Ile będzie wynosiła orientacyjna cena mieszkania za 5 lat?\n",
    "2. Ile musisz wpłacać do banku każdego miesiąca, aby przy przedstawionej ofercie uzbierać na mieszkanie w ciągu 5 lat?\n",
    "3. Stwórz wykres przedstawiający, jak w interwałach miesięcznych zmieniać się będzie cena mieszkania (liniowy wzrost w całym okresie) oraz wartość twojej lokaty.\n",
    "\n",
    "Do wykonania powyższego zadania wykorzystaj biblioteki NumPy, NumPy-financial oraz Matplotlib. Odpowiedzi na pytania umieść w Notebooku (jeśli korzystasz) lub w komentarzach w kodzie."
   ]
  },
  {
   "cell_type": "code",
   "execution_count": 13,
   "id": "1db43823",
   "metadata": {},
   "outputs": [],
   "source": [
    "import numpy as np\n",
    "import numpy_financial as npf\n",
    "import matplotlib.pyplot as plt"
   ]
  },
  {
   "cell_type": "markdown",
   "id": "3b595064",
   "metadata": {},
   "source": [
    "#### 1. Ile będzie wynosiła orientacyjna cena mieszkania za 5 lat?"
   ]
  },
  {
   "cell_type": "code",
   "execution_count": 14,
   "id": "a8dd2710",
   "metadata": {},
   "outputs": [],
   "source": [
    "freq = 12\n",
    "rate = 0.05 # stopa oprocentowania rocznego\n",
    "nper = 5 # liczba wszystkich okresów\n",
    "pv = 120000 # poczatkowa cena mieszkania\n",
    "per = np.arange(1,nper+1, dtype=int) # wektor licznika każdej kolejnej płatności\n",
    "p2 = nper*freq"
   ]
  },
  {
   "cell_type": "code",
   "execution_count": 15,
   "id": "0000fd8d",
   "metadata": {},
   "outputs": [],
   "source": [
    "#wartość przyszła mieszkania przy npf.fv(stopie 'rate'), \n",
    "# (kapitalizacji co 'nper'), (bez dodtakowej kwoty rocznie), \n",
    "# (początkowa cena mieszkania 'pv')"
   ]
  },
  {
   "cell_type": "code",
   "execution_count": 16,
   "id": "c1c4534c",
   "metadata": {},
   "outputs": [
    {
     "data": {
      "text/plain": [
       "array([126000.  , 132300.  , 138915.  , 145860.75, 153153.79])"
      ]
     },
     "execution_count": 16,
     "metadata": {},
     "output_type": "execute_result"
    }
   ],
   "source": [
    "future_price = np.around(npf.fv(rate, nper, 0, -pv),2) \n",
    "# Zgodnie z konwencją znak minus oznacza wypływ gotówki \n",
    "# (tj. pieniądze niedostępne dzisiaj). \n",
    "future_price_np = np.around(npf.fv(rate, per, 0, -pv),2)\n",
    "future_price_np"
   ]
  },
  {
   "cell_type": "code",
   "execution_count": 17,
   "id": "db16018b",
   "metadata": {},
   "outputs": [
    {
     "name": "stdout",
     "output_type": "stream",
     "text": [
      "Orientacyjna cena mieszkania za 5 lat wyniesie: 153153.79 zł.\n"
     ]
    }
   ],
   "source": [
    "print(f'Orientacyjna cena mieszkania za 5 lat wyniesie: {future_price} zł.')"
   ]
  },
  {
   "cell_type": "code",
   "execution_count": 18,
   "id": "653950d0",
   "metadata": {},
   "outputs": [
    {
     "data": {
      "text/plain": [
       "array([126000.  , 126000.  , 126000.  , 126000.  , 126000.  , 126000.  ,\n",
       "       126000.  , 126000.  , 126000.  , 126000.  , 126000.  , 126000.  ,\n",
       "       132300.  , 132300.  , 132300.  , 132300.  , 132300.  , 132300.  ,\n",
       "       132300.  , 132300.  , 132300.  , 132300.  , 132300.  , 132300.  ,\n",
       "       138915.  , 138915.  , 138915.  , 138915.  , 138915.  , 138915.  ,\n",
       "       138915.  , 138915.  , 138915.  , 138915.  , 138915.  , 138915.  ,\n",
       "       145860.75, 145860.75, 145860.75, 145860.75, 145860.75, 145860.75,\n",
       "       145860.75, 145860.75, 145860.75, 145860.75, 145860.75, 145860.75,\n",
       "       153153.79, 153153.79, 153153.79, 153153.79, 153153.79, 153153.79,\n",
       "       153153.79, 153153.79, 153153.79, 153153.79, 153153.79, 153153.79])"
      ]
     },
     "execution_count": 18,
     "metadata": {},
     "output_type": "execute_result"
    }
   ],
   "source": [
    "fp = np.sort(((np.zeros((12,1)) + future_price_np).reshape(1,60)).flatten())\n",
    "# fp.flatten()\n",
    "# fp.sort()\n",
    "fp"
   ]
  },
  {
   "cell_type": "markdown",
   "id": "2e2474ac",
   "metadata": {},
   "source": [
    "#### 2. Ile musisz wpłacać do banku każdego miesiąca, aby przy przedstawionej ofercie uzbierać na mieszkanie w ciągu 5 lat?"
   ]
  },
  {
   "cell_type": "code",
   "execution_count": 19,
   "id": "02cca62f",
   "metadata": {},
   "outputs": [],
   "source": [
    "# płatność stała do banku co miesiąc 'pmt' = ????? "
   ]
  },
  {
   "cell_type": "code",
   "execution_count": 20,
   "id": "939d011e",
   "metadata": {},
   "outputs": [],
   "source": [
    "freq = 12 #kapitalizacja odsetek 12 razy w roku\n",
    "rate = 0.12 # roczna stopa oprocentowania\n",
    "years = 5 # liczba lat oszczędzania\n",
    "pv = 0 # teraźniejsza wartość w banku\n",
    "fv = future_price # kwota jaką chemy uzyskać równa cenie mieszkania za 5 lat\n",
    "\n",
    "rf = rate/freq # konwersja stopy do okresu miesięcznego\n",
    "nper = years * freq # liczba wszystkich okresów kapitalizacji\n",
    "per = np.arange(1,nper+1, dtype=int) # wektor licznika każdej kolejnej płatności"
   ]
  },
  {
   "cell_type": "code",
   "execution_count": 21,
   "id": "15294fd1",
   "metadata": {},
   "outputs": [
    {
     "data": {
      "text/plain": [
       "1875.28"
      ]
     },
     "execution_count": 21,
     "metadata": {},
     "output_type": "execute_result"
    }
   ],
   "source": [
    "wplata = np.around(npf.pmt(rf, nper, -pv, -fv, when='end'),2)\n",
    "# Zgodnie z konwencją znak minus oznacza wypływ gotówki \n",
    "# (tj. pieniądze niedostępne dzisiaj). \n",
    "wplata"
   ]
  },
  {
   "cell_type": "code",
   "execution_count": 22,
   "id": "c5e4d4bb",
   "metadata": {},
   "outputs": [
    {
     "name": "stdout",
     "output_type": "stream",
     "text": [
      "Muszę wpłacać 1875.28 złotych do banku każdego miesiąca, aby przy przedstawionej ofercie uzbierać na mieszkanie w ciągu 5 lat.\n"
     ]
    }
   ],
   "source": [
    "print(f'Muszę wpłacać {wplata} złotych do banku każdego miesiąca, aby przy przedstawionej ofercie uzbierać na mieszkanie w ciągu 5 lat.')"
   ]
  },
  {
   "cell_type": "markdown",
   "id": "e3f76391",
   "metadata": {},
   "source": [
    "#### 3. Stwórz wykres przedstawiający, jak w interwałach miesięcznych zmieniać się będzie cena mieszkania (liniowy wzrost w całym okresie) oraz wartość twojej lokaty."
   ]
  },
  {
   "cell_type": "code",
   "execution_count": 23,
   "id": "99549aa9",
   "metadata": {},
   "outputs": [
    {
     "data": {
      "text/plain": [
       "array([  1875.28,   3769.31,   5682.29,   7614.39,   9565.81,  11536.75,\n",
       "        13527.4 ,  15537.95,  17568.61,  19619.58,  21691.05,  23783.24,\n",
       "        25896.36,  28030.6 ,  30186.19,  32363.33,  34562.24,  36783.14,\n",
       "        39026.26,  41291.8 ,  43580.  ,  45891.08,  48225.27,  50582.8 ,\n",
       "        52963.91,  55368.83,  57797.79,  60251.05,  62728.84,  65231.41,\n",
       "        67759.01,  70311.88,  72890.27,  75494.46,  78124.68,  80781.21,\n",
       "        83464.3 ,  86174.22,  88911.25,  91675.64,  94467.67,  97287.63,\n",
       "       100135.79, 103012.43, 105917.83, 108852.29, 111816.09, 114809.53,\n",
       "       117832.91, 120886.52, 123970.66, 127085.65, 130231.78, 133409.38,\n",
       "       136618.76, 139860.22, 143134.11, 146440.73, 149780.41, 153153.5 ])"
      ]
     },
     "execution_count": 23,
     "metadata": {},
     "output_type": "execute_result"
    }
   ],
   "source": [
    "# wartość przyszła przy wyliczonej 'wpłacie'\n",
    "fv_save = np.around(npf.fv(rf, per, -wplata, -pv, when='end'),2)\n",
    "fv_save"
   ]
  },
  {
   "cell_type": "code",
   "execution_count": 24,
   "id": "f0e6451d",
   "metadata": {
    "scrolled": true
   },
   "outputs": [
    {
     "data": {
      "text/plain": [
       "Text(0, 0.5, 'Skumolowana wartość')"
      ]
     },
     "execution_count": 24,
     "metadata": {},
     "output_type": "execute_result"
    },
    {
     "data": {
      "image/png": "[encoded data removed]",
      "text/plain": [
       "<Figure size 640x480 with 1 Axes>"
      ]
     },
     "metadata": {},
     "output_type": "display_data"
    }
   ],
   "source": [
    "plt.plot(fp, label = 'cena mieszkania')\n",
    "plt.plot(fv_save, label = 'wartość lokaty')\n",
    "plt.legend()\n",
    "plt.xlabel('Liczba miesięcy')\n",
    "plt.ylabel('Skumolowana wartość')"
   ]
  },
  {
   "cell_type": "code",
   "execution_count": null,
   "id": "59915c71",
   "metadata": {},
   "outputs": [],
   "source": []
  }
 ],
 "metadata": {
  "kernelspec": {
   "display_name": "Python 3.10.6 64-bit",
   "language": "python",
   "name": "python3"
  },
  "language_info": {
   "codemirror_mode": {
    "name": "ipython",
    "version": 3
   },
   "file_extension": ".py",
   "mimetype": "text/x-python",
   "name": "python",
   "nbconvert_exporter": "python",
   "pygments_lexer": "ipython3",
   "version": "3.10.6"
  },
  "vscode": {
   "interpreter": {
    "hash": "a491fa038a24a3354ef15b8320e5eed1f98c46448a463343d2ea596d5b86218b"
   }
  }
 },
 "nbformat": 4,
 "nbformat_minor": 5
}
